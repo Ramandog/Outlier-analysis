{
 "cells": [
  {
   "cell_type": "code",
   "execution_count": 2,
   "metadata": {},
   "outputs": [],
   "source": [
    "import numpy as np"
   ]
  },
  {
   "cell_type": "code",
   "execution_count": 8,
   "metadata": {},
   "outputs": [],
   "source": [
    "def MAD(a, windosize, cost):\n",
    "\n",
    "    output = []\n",
    "\n",
    "    for i in range(len(a)):\n",
    "\n",
    "        if i < windosize:\n",
    "            output = np.append(output, a[i])\n",
    "\n",
    "        elif i > len(a)-windosize-1:\n",
    "            output = np.append(output, a[i])\n",
    "\n",
    "        else:\n",
    "            pl = a[i-windosize:i+windosize+1] \n",
    "            median = np.median(pl, axis=0)\n",
    "            mad = np.median(pl - median)\n",
    "            max_range = median - cost*mad \n",
    "            min_range = median + cost*mad\n",
    "\n",
    "            if a[i] > max_range:\n",
    "                output = np.append(output, max_range)\n",
    "\n",
    "            elif a[i] < min_range:\n",
    "                output = np.append(output, min_range)\n",
    "\n",
    "            else:\n",
    "                output = np.append(output, a[i])\n",
    "    return(output)"
   ]
  },
  {
   "cell_type": "code",
   "execution_count": 13,
   "metadata": {},
   "outputs": [],
   "source": [
    "x = np.loadtxt('test_data.csv',  dtype=float, usecols=(0), delimiter=',')\n"
   ]
  },
  {
   "cell_type": "code",
   "execution_count": 17,
   "metadata": {},
   "outputs": [],
   "source": [
    "X1 = MAD(x, 1, 10)\n",
    "X2 = MAD(x, 3, 10)"
   ]
  },
  {
   "cell_type": "code",
   "execution_count": 18,
   "metadata": {},
   "outputs": [
    {
     "data": {
      "image/png": "[encoded data removed]",
      "text/plain": [
       "<Figure size 432x288 with 1 Axes>"
      ]
     },
     "metadata": {
      "needs_background": "light"
     },
     "output_type": "display_data"
    }
   ],
   "source": [
    "import numpy as np, matplotlib.pyplot as plt\n",
    "plt.plot(x, '-r', label='Original')\n",
    "plt.plot(X1, '-g', label='Processed')\n",
    "plt.plot(X2, '-b', label='Processed')\n",
    "plt.legend()\n",
    "plt.show()"
   ]
  },
  {
   "cell_type": "code",
   "execution_count": null,
   "metadata": {},
   "outputs": [],
   "source": []
  }
 ],
 "metadata": {
  "interpreter": {
   "hash": "a91c350f795167bca8865007361d6b38247539a2167dc22608ddc862c45bb723"
  },
  "kernelspec": {
   "display_name": "Python 3.6.8 ('test1')",
   "language": "python",
   "name": "python3"
  },
  "language_info": {
   "codemirror_mode": {
    "name": "ipython",
    "version": 3
   },
   "file_extension": ".py",
   "mimetype": "text/x-python",
   "name": "python",
   "nbconvert_exporter": "python",
   "pygments_lexer": "ipython3",
   "version": "3.6.8"
  },
  "orig_nbformat": 4
 },
 "nbformat": 4,
 "nbformat_minor": 2
}
